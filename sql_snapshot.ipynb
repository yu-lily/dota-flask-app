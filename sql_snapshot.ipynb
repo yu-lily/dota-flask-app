{
 "cells": [
  {
   "cell_type": "code",
   "execution_count": 1,
   "metadata": {},
   "outputs": [
    {
     "data": {
      "text/plain": [
       "True"
      ]
     },
     "execution_count": 1,
     "metadata": {},
     "output_type": "execute_result"
    }
   ],
   "source": [
    "from sql_client import SQLClient\n",
    "from dotenv import load_dotenv\n",
    "\n",
    "load_dotenv()"
   ]
  },
  {
   "cell_type": "code",
   "execution_count": 2,
   "metadata": {},
   "outputs": [],
   "source": [
    "sqlclient = SQLClient()"
   ]
  },
  {
   "cell_type": "code",
   "execution_count": 3,
   "metadata": {},
   "outputs": [],
   "source": [
    "query = \"\"\"\n",
    "WITH ability_wr AS (\n",
    "\tSELECT p.selectedrewardabilityid, AVG(m.didwin::int) AS wr\n",
    "\tFROM playerdepthlist AS p\n",
    "\tJOIN matches m ON p.matchid = m.id\n",
    "\tGROUP BY p.selectedrewardabilityid\n",
    "), ability_clear_time AS (\n",
    "\tSELECT p.selectedrewardabilityid, AVG(m.durationSeconds::int) / 60 AS clear_time, COUNT(*) AS num_clears\n",
    "\tFROM playerdepthlist AS p\n",
    "\tJOIN matches m ON p.matchid = m.id\n",
    "\tWHERE m.didwin = true\n",
    "\tGROUP BY p.selectedrewardabilityid\n",
    ")\n",
    "SELECT *\n",
    "FROM ability_wr wr \n",
    "JOIN ability_clear_time ct ON ct.selectedrewardabilityid = wr.selectedrewardabilityid\n",
    "JOIN abilityConstants a ON wr.selectedrewardabilityid = a.id\n",
    "ORDER BY clear_time ASC\"\"\""
   ]
  },
  {
   "cell_type": "code",
   "execution_count": 15,
   "metadata": {},
   "outputs": [],
   "source": [
    "sqlclient.cur.execute(query)"
   ]
  },
  {
   "cell_type": "code",
   "execution_count": 16,
   "metadata": {},
   "outputs": [],
   "source": [
    "r = sqlclient.cur.fetchall()"
   ]
  },
  {
   "cell_type": "code",
   "execution_count": 17,
   "metadata": {},
   "outputs": [
    {
     "data": {
      "text/plain": [
       "'[]'"
      ]
     },
     "execution_count": 17,
     "metadata": {},
     "output_type": "execute_result"
    }
   ],
   "source": [
    "import json\n",
    "json.dumps(sqlclient.cur.fetchall(), default=str)"
   ]
  },
  {
   "cell_type": "code",
   "execution_count": 24,
   "metadata": {},
   "outputs": [
    {
     "data": {
      "text/plain": [
       "(Column(name='selectedrewardabilityid', type_code=23),\n",
       " Column(name='wr', type_code=1700),\n",
       " Column(name='selectedrewardabilityid', type_code=23),\n",
       " Column(name='clear_time', type_code=1700),\n",
       " Column(name='num_clears', type_code=20),\n",
       " Column(name='id', type_code=21),\n",
       " Column(name='name', type_code=25),\n",
       " Column(name='abilityname', type_code=25),\n",
       " Column(name='displayname', type_code=25),\n",
       " Column(name='description', type_code=25))"
      ]
     },
     "execution_count": 24,
     "metadata": {},
     "output_type": "execute_result"
    }
   ],
   "source": [
    "sqlclient.cur.description"
   ]
  },
  {
   "cell_type": "code",
   "execution_count": 23,
   "metadata": {},
   "outputs": [
    {
     "data": {
      "text/plain": [
       "(802,\n",
       " Decimal('0.03614457831325301205'),\n",
       " 802,\n",
       " Decimal('66.2472222222222222'),\n",
       " 6,\n",
       " 802,\n",
       " 'aghsfort_special_slark_pounce_leashed_bonus',\n",
       " None,\n",
       " 'Fish Food',\n",
       " 'Allies attacking a leashed unit get bonus 60 attack speed.')"
      ]
     },
     "execution_count": 23,
     "metadata": {},
     "output_type": "execute_result"
    }
   ],
   "source": [
    "r[0]"
   ]
  },
  {
   "cell_type": "code",
   "execution_count": 20,
   "metadata": {},
   "outputs": [
    {
     "ename": "AttributeError",
     "evalue": "'psycopg2.extensions.connection' object has no attribute 'row'",
     "output_type": "error",
     "traceback": [
      "\u001b[1;31m---------------------------------------------------------------------------\u001b[0m",
      "\u001b[1;31mAttributeError\u001b[0m                            Traceback (most recent call last)",
      "\u001b[1;32m~\\AppData\\Local\\Temp/ipykernel_24836/1426744257.py\u001b[0m in \u001b[0;36m<module>\u001b[1;34m\u001b[0m\n\u001b[1;32m----> 1\u001b[1;33m \u001b[0msqlclient\u001b[0m\u001b[1;33m.\u001b[0m\u001b[0mconn\u001b[0m\u001b[1;33m.\u001b[0m\u001b[0mrow\u001b[0m\u001b[1;33m\u001b[0m\u001b[1;33m\u001b[0m\u001b[0m\n\u001b[0m",
      "\u001b[1;31mAttributeError\u001b[0m: 'psycopg2.extensions.connection' object has no attribute 'row'"
     ]
    }
   ],
   "source": [
    "sqlclient.conn.row"
   ]
  },
  {
   "cell_type": "code",
   "execution_count": null,
   "metadata": {},
   "outputs": [],
   "source": []
  }
 ],
 "metadata": {
  "interpreter": {
   "hash": "d497ff365f89178b04acc6b0516ba44c7562f1c05bfc7ed497631338c57a3b42"
  },
  "kernelspec": {
   "display_name": "Python 3.8.10 64-bit ('.venv': venv)",
   "language": "python",
   "name": "python3"
  },
  "language_info": {
   "codemirror_mode": {
    "name": "ipython",
    "version": 3
   },
   "file_extension": ".py",
   "mimetype": "text/x-python",
   "name": "python",
   "nbconvert_exporter": "python",
   "pygments_lexer": "ipython3",
   "version": "3.8.10"
  },
  "orig_nbformat": 4
 },
 "nbformat": 4,
 "nbformat_minor": 2
}
