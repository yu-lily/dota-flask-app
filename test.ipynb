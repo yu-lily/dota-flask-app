{
 "cells": [
  {
   "cell_type": "code",
   "execution_count": 1,
   "metadata": {},
   "outputs": [],
   "source": [
    "import json\n",
    "from datetime import datetime\n",
    "from collections import defaultdict"
   ]
  },
  {
   "cell_type": "code",
   "execution_count": 2,
   "metadata": {},
   "outputs": [],
   "source": [
    "with open(\"./static/window_log.json\") as f:\n",
    "    aghs_data = json.load(f)"
   ]
  },
  {
   "cell_type": "code",
   "execution_count": 6,
   "metadata": {},
   "outputs": [],
   "source": [
    "aghs_data_by_date = defaultdict(int)\n",
    "\n",
    "for ts, v in aghs_data['APEXMAGE'].items():\n",
    "    dt = datetime.fromtimestamp(int(ts))\n",
    "    date = dt.date().isoformat()\n",
    "    proc = v['processed']\n",
    "    \n",
    "    aghs_data_by_date[date] += proc"
   ]
  },
  {
   "cell_type": "code",
   "execution_count": 8,
   "metadata": {},
   "outputs": [
    {
     "data": {
      "text/plain": [
       "defaultdict(int,\n",
       "            {'2021-12-14': 0,\n",
       "             '2021-12-15': 2,\n",
       "             '2021-12-16': 92,\n",
       "             '2021-12-17': 711,\n",
       "             '2021-12-18': 2407,\n",
       "             '2021-12-19': 3829,\n",
       "             '2021-12-20': 5460,\n",
       "             '2021-12-21': 5171,\n",
       "             '2021-12-22': 9328,\n",
       "             '2021-12-23': 10498,\n",
       "             '2021-12-24': 11670,\n",
       "             '2021-12-25': 13253,\n",
       "             '2021-12-26': 9443,\n",
       "             '2021-12-27': 12927,\n",
       "             '2021-12-28': 13552,\n",
       "             '2021-12-29': 16418,\n",
       "             '2021-12-30': 17426,\n",
       "             '2021-12-31': 11590,\n",
       "             '2022-01-01': 18425,\n",
       "             '2022-01-02': 18822,\n",
       "             '2022-01-03': 17785,\n",
       "             '2022-01-04': 17403,\n",
       "             '2022-01-05': 16167,\n",
       "             '2022-01-06': 21714,\n",
       "             '2022-01-07': 22793,\n",
       "             '2022-01-08': 23839,\n",
       "             '2022-01-09': 20035,\n",
       "             '2022-01-10': 14380,\n",
       "             '2022-01-11': 17400,\n",
       "             '2022-01-12': 19919,\n",
       "             '2022-01-13': 21297,\n",
       "             '2022-01-14': 10069,\n",
       "             '2022-01-15': 4882,\n",
       "             '2022-01-16': 19245,\n",
       "             '2022-01-17': 17375,\n",
       "             '2022-01-18': 16978,\n",
       "             '2022-01-19': 19434,\n",
       "             '2022-01-20': 9603,\n",
       "             '2022-01-21': 4158,\n",
       "             '2022-01-22': 10717,\n",
       "             '2022-01-23': 700,\n",
       "             '2022-01-24': 7193,\n",
       "             '2022-01-25': 8806,\n",
       "             '2022-01-26': 1474})"
      ]
     },
     "execution_count": 8,
     "metadata": {},
     "output_type": "execute_result"
    }
   ],
   "source": [
    "\n",
    "aghs_data_by_date"
   ]
  },
  {
   "cell_type": "code",
   "execution_count": 3,
   "metadata": {},
   "outputs": [
    {
     "name": "stdout",
     "output_type": "stream",
     "text": [
      "APEXMAGE\n",
      "GRANDMAGUS\n"
     ]
    }
   ],
   "source": [
    "for difficulty in aghs_data.keys():\n",
    "    print(difficulty)"
   ]
  },
  {
   "cell_type": "code",
   "execution_count": null,
   "metadata": {},
   "outputs": [],
   "source": []
  }
 ],
 "metadata": {
  "interpreter": {
   "hash": "c2bf9b418df73ca7a88ed7597756fb0d0f826803b03f4f8983492e25271c22a1"
  },
  "kernelspec": {
   "display_name": "Python 3.9.2 64-bit ('.venv': venv)",
   "language": "python",
   "name": "python3"
  },
  "language_info": {
   "codemirror_mode": {
    "name": "ipython",
    "version": 3
   },
   "file_extension": ".py",
   "mimetype": "text/x-python",
   "name": "python",
   "nbconvert_exporter": "python",
   "pygments_lexer": "ipython3",
   "version": "3.9.2"
  },
  "orig_nbformat": 4
 },
 "nbformat": 4,
 "nbformat_minor": 2
}
